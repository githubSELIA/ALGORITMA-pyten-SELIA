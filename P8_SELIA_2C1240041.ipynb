{
  "nbformat": 4,
  "nbformat_minor": 0,
  "metadata": {
    "colab": {
      "provenance": [],
      "authorship_tag": "ABX9TyNUKr/aTxK/NXZospYDzZvW",
      "include_colab_link": true
    },
    "kernelspec": {
      "name": "python3",
      "display_name": "Python 3"
    },
    "language_info": {
      "name": "python"
    }
  },
  "cells": [
    {
      "cell_type": "markdown",
      "metadata": {
        "id": "view-in-github",
        "colab_type": "text"
      },
      "source": [
        "<a href=\"https://colab.research.google.com/github/githubSELIA/ALGORITMA-pyten-SELIA/blob/main/P8_SELIA_2C1240041.ipynb\" target=\"_parent\"><img src=\"https://colab.research.google.com/assets/colab-badge.svg\" alt=\"Open In Colab\"/></a>"
      ]
    },
    {
      "cell_type": "markdown",
      "source": [
        "**FUNDAMENTAL ARRAY**"
      ],
      "metadata": {
        "id": "jAZrv07wb0FB"
      }
    },
    {
      "cell_type": "code",
      "source": [
        "arr = [10, 20, 30, 40]"
      ],
      "metadata": {
        "id": "k1564OP-b1qI"
      },
      "execution_count": 4,
      "outputs": []
    },
    {
      "cell_type": "code",
      "source": [
        "list_numbers = [1, 2, 3, 4, 5]"
      ],
      "metadata": {
        "id": "hYdruloOb1sY"
      },
      "execution_count": 5,
      "outputs": []
    },
    {
      "cell_type": "code",
      "source": [
        "list_numbers[0] = 100  # Mengubah elemen pertama menjadi 100"
      ],
      "metadata": {
        "id": "X0nOL3lDcKdh"
      },
      "execution_count": 6,
      "outputs": []
    },
    {
      "cell_type": "markdown",
      "source": [
        "**MENDEKLARASIKAN ARRA**Y"
      ],
      "metadata": {
        "id": "EWXEnTJbcU54"
      }
    },
    {
      "cell_type": "code",
      "source": [
        "arr = [1, 2, 3, 4, 5]"
      ],
      "metadata": {
        "id": "Fqhp-NeIcY4f"
      },
      "execution_count": 7,
      "outputs": []
    },
    {
      "cell_type": "code",
      "source": [
        "data = [1, 2, 3, 'hello', 5.5]  # array dengan elemen tipe berbeda"
      ],
      "metadata": {
        "id": "4JgUAWYdcjFw"
      },
      "execution_count": 8,
      "outputs": []
    },
    {
      "cell_type": "code",
      "source": [
        "arr = [0] * 5  # Membuat array dengan 5 elemen, semua berisi 0"
      ],
      "metadata": {
        "id": "YN2KOz5acphP"
      },
      "execution_count": 9,
      "outputs": []
    },
    {
      "cell_type": "code",
      "source": [
        "arr = [10, 20, 30, 40]\n",
        "print(arr[0])  # Output: 10 (indeks pertama)\n",
        "print(arr[3])  # Output: 40 (indeks terakhir)"
      ],
      "metadata": {
        "colab": {
          "base_uri": "https://localhost:8080/"
        },
        "id": "wEs-x0A2ctUI",
        "outputId": "265ae5f4-e15e-4521-f4ed-d6dd874a349c"
      },
      "execution_count": 10,
      "outputs": [
        {
          "output_type": "stream",
          "name": "stdout",
          "text": [
            "10\n",
            "40\n"
          ]
        }
      ]
    },
    {
      "cell_type": "markdown",
      "source": [
        "**PEMROSESAN SEKUENSIAL ARRAY**"
      ],
      "metadata": {
        "id": "dJwrJmFkc1j4"
      }
    },
    {
      "cell_type": "code",
      "source": [
        "arr = [10, 20, 30, 40, 50]\n",
        "for elemen in arr:\n",
        "    print(elemen)"
      ],
      "metadata": {
        "colab": {
          "base_uri": "https://localhost:8080/"
        },
        "id": "UdWF_gOzc4jf",
        "outputId": "c539f2c5-cdec-4ca4-c2bf-e9fe0ef86c9c"
      },
      "execution_count": 11,
      "outputs": [
        {
          "output_type": "stream",
          "name": "stdout",
          "text": [
            "10\n",
            "20\n",
            "30\n",
            "40\n",
            "50\n"
          ]
        }
      ]
    },
    {
      "cell_type": "code",
      "source": [
        "total = 0\n",
        "for elemen in arr:\n",
        "    total += elemen\n",
        "print(total)  # Output: 150"
      ],
      "metadata": {
        "colab": {
          "base_uri": "https://localhost:8080/"
        },
        "id": "CxFNtcFec8hf",
        "outputId": "ee98113f-3402-4080-f4b8-2d078340c019"
      },
      "execution_count": 12,
      "outputs": [
        {
          "output_type": "stream",
          "name": "stdout",
          "text": [
            "150\n"
          ]
        }
      ]
    },
    {
      "cell_type": "markdown",
      "source": [
        "**LATIHAN SOAL NO 1**"
      ],
      "metadata": {
        "id": "szxQ_sGodNpn"
      }
    },
    {
      "cell_type": "code",
      "source": [
        "arr = [3, 21, 10, 80, 12, 8, 19, 1, 7, 2, 11, 32, 5, 44]\n",
        "nilai_maks = max(arr)\n",
        "print(\"rata rata nilai maksimum arr adalah\" , nilai_maks)\n",
        "nilai_min = min(arr)\n",
        "print(\"nilai minimum arr adalah\" , nilai_min)\n",
        "penjumlahan = sum(arr)\n",
        "print(\"hasil penjumlahan seluruh elemen arr adalah\", penjumlahan)\n",
        "jumlah_arr = len(arr)\n",
        "print(\"jumlah seluruh elemen arr adalah\" , jumlah_arr)\n",
        "rata_rata = sum(arr)/len(arr)\n",
        "print(\"rata-rata seluruh elemen arr adalah\", rata_rata)"
      ],
      "metadata": {
        "colab": {
          "base_uri": "https://localhost:8080/"
        },
        "id": "vjLTP0rVdXE4",
        "outputId": "8fa2ceb3-dcd6-4d98-c04d-f921b762a5f5"
      },
      "execution_count": 25,
      "outputs": [
        {
          "output_type": "stream",
          "name": "stdout",
          "text": [
            "rata rata nilai maksimum arr adalah 80\n",
            "nilai minimum arr adalah 1\n",
            "hasil penjumlahan seluruh elemen arr adalah 255\n",
            "jumlah seluruh elemen arr adalah 14\n",
            "rata-rata seluruh elemen arr adalah 18.214285714285715\n"
          ]
        }
      ]
    },
    {
      "cell_type": "code",
      "source": [
        "#program untuk mencari nilai terbesar dari elemen array\n",
        "\n",
        "#masukkan elemen array T\n",
        "T1= [7,12,3,-1,0,4,-21,3,55,14]\n",
        "nilai_terbesar = max(T1)\n",
        "nilai_terkecil = min(T1)\n",
        "print(\"nilai terbesar dari elemen array T1 adalah:\", nilai_terbesar)\n",
        "print(\"nilai terkecil dari elemen array T1 adalah:\", nilai_terkecil)\n",
        "\n",
        "#masukkan elemen array T\n",
        "T2=[1,3,5,8,-12,200,3,5]\n",
        "nilai_terbesar =max(T2)\n",
        "nilai_terkecil =min(T2)\n",
        "print(\"nilai terbesar dari elemen array T2 adalah:\", nilai_terbesar)\n",
        "print(\"nilai terkecil dari elemen array T2 adalah:\", nilai_terkecil)"
      ],
      "metadata": {
        "colab": {
          "base_uri": "https://localhost:8080/"
        },
        "id": "bcT0zB6Bdgo2",
        "outputId": "df02d7bf-a3b2-4d32-987e-4a28429df839"
      },
      "execution_count": 23,
      "outputs": [
        {
          "output_type": "stream",
          "name": "stdout",
          "text": [
            "nilai terbesar dari elemen array T1 adalah: 55\n",
            "nilai terkecil dari elemen array T1 adalah: -21\n",
            "nilai terbesar dari elemen array T2 adalah: 200\n",
            "nilai terkecil dari elemen array T2 adalah: -12\n"
          ]
        }
      ]
    },
    {
      "cell_type": "markdown",
      "source": [
        "**LATIHAN 1 BU SEVI**"
      ],
      "metadata": {
        "id": "coBkRPoddwhu"
      }
    },
    {
      "cell_type": "code",
      "source": [
        "S = [4,1,-1,10,0,12]\n",
        "D = int(input(\"masukkan nilai D: \"))\n",
        "S = [x * D for x in S]\n",
        "print(\"Array setelah dikalikan dengan D:\", S)\n"
      ],
      "metadata": {
        "colab": {
          "base_uri": "https://localhost:8080/"
        },
        "id": "trxC-087d1ln",
        "outputId": "a8948b07-b5a2-44e7-a2b5-8ebadb14cfaf"
      },
      "execution_count": 16,
      "outputs": [
        {
          "output_type": "stream",
          "name": "stdout",
          "text": [
            "masukkan nilai D: 5\n",
            "Array setelah dikalikan dengan D: [20, 5, -5, 50, 0, 60]\n"
          ]
        }
      ]
    },
    {
      "cell_type": "markdown",
      "source": [
        "**LATIHAN 2 BU SEVI**"
      ],
      "metadata": {
        "id": "2PaAYO-yfVzm"
      }
    },
    {
      "cell_type": "code",
      "source": [
        "N = int(input(\"Masukkan jumlah elemen array T (N): \"))\n",
        "\n",
        "print(\"Masukkan elemen-elemen array T:\")\n",
        "T = [int(input(f\"Elemen ke-{i+1}: \")) for i in range(N)]\n",
        "\n",
        "# Cari nilai terbesar\n",
        "nilai_terbesar = T[0]  # Inisialisasi nilai terbesar dengan elemen pertama\n",
        "for elemen in T:\n",
        "    if elemen > nilai_terbesar:\n",
        "        nilai_terbesar = elemen\n",
        "\n",
        "# Output nilai terbesar\n",
        "print(\"Nilai terbesar dari array T adalah:\", nilai_terbesar)\n"
      ],
      "metadata": {
        "colab": {
          "base_uri": "https://localhost:8080/"
        },
        "id": "nj7xkdLbfZ4P",
        "outputId": "1f1b9d75-1747-426e-9313-57b8975be39d"
      },
      "execution_count": 17,
      "outputs": [
        {
          "output_type": "stream",
          "name": "stdout",
          "text": [
            "Masukkan jumlah elemen array T (N): 4\n",
            "Masukkan elemen-elemen array T:\n",
            "Elemen ke-1: 3\n",
            "Elemen ke-2: 6\n",
            "Elemen ke-3: 7\n",
            "Elemen ke-4: 9\n",
            "Nilai terbesar dari array T adalah: 9\n"
          ]
        }
      ]
    }
  ]
}