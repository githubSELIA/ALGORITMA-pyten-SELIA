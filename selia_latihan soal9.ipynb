{
  "nbformat": 4,
  "nbformat_minor": 0,
  "metadata": {
    "colab": {
      "provenance": [],
      "authorship_tag": "ABX9TyMpkK3/iPO/90bye8M8fCZC",
      "include_colab_link": true
    },
    "kernelspec": {
      "name": "python3",
      "display_name": "Python 3"
    },
    "language_info": {
      "name": "python"
    }
  },
  "cells": [
    {
      "cell_type": "markdown",
      "metadata": {
        "id": "view-in-github",
        "colab_type": "text"
      },
      "source": [
        "<a href=\"https://colab.research.google.com/github/githubSELIA/ALGORITMA-pyten-SELIA/blob/main/selia_latihan%20soal9.ipynb\" target=\"_parent\"><img src=\"https://colab.research.google.com/assets/colab-badge.svg\" alt=\"Open In Colab\"/></a>"
      ]
    },
    {
      "cell_type": "code",
      "source": [
        "#LATIHAN SOAL 1\n",
        "nama = input (\"masukkan nama anda:\")\n",
        "print(f\"halo, {nama}!,selamat belajar pyhton\")\n",
        ""
      ],
      "metadata": {
        "colab": {
          "base_uri": "https://localhost:8080/"
        },
        "id": "SdU5YcMZJjBh",
        "outputId": "4abcd815-49c0-433c-8462-4a681abf4ee1"
      },
      "execution_count": 2,
      "outputs": [
        {
          "output_type": "stream",
          "name": "stdout",
          "text": [
            "masukkan nama anda:Selia\n",
            "halo, Selia!,selamat belajar pyhton\n"
          ]
        }
      ]
    },
    {
      "cell_type": "code",
      "source": [
        "#LATIHAN SOAL 2\n",
        "panjang= 8\n",
        "lebar = 4\n",
        "luas=panjang*lebar\n",
        "panjang=int(input(\"masukkan panjang persegi panjang:\"))\n",
        "lebar=int(input(\"masukkan lebar persegi panjang:\"))\n",
        "print(f\"luas persegi panjang {luas}\")"
      ],
      "metadata": {
        "colab": {
          "base_uri": "https://localhost:8080/"
        },
        "id": "oUB4QhBDKigY",
        "outputId": "d1da714a-9e4d-435b-c2d9-a35edd6406c4"
      },
      "execution_count": 8,
      "outputs": [
        {
          "output_type": "stream",
          "name": "stdout",
          "text": [
            "masukkan panjang persegi panjang:8\n",
            "masukkan lebar persegi panjang:4\n",
            "luas persegi panjang 32\n"
          ]
        }
      ]
    },
    {
      "cell_type": "code",
      "source": [
        "#LATIHAN SOAL 3\n",
        "bilangan = int(input(\"masukkan bilangan bulat:\"))\n",
        "if bilangan % 2 == 0:\n",
        " print(f\"bilangan {bilangan} adalah bilangan genap\")\n",
        "else:\n",
        "  print(f\"bilangan {bilangan} adalah bilangan ganjil\")"
      ],
      "metadata": {
        "colab": {
          "base_uri": "https://localhost:8080/"
        },
        "id": "InB1PfuzOUld",
        "outputId": "6dbbd979-9cb4-42c3-de8f-74a1614e7382"
      },
      "execution_count": 18,
      "outputs": [
        {
          "output_type": "stream",
          "name": "stdout",
          "text": [
            "masukkan bilangan bulat:21\n",
            "bilangan 21 adalah bilangan ganjil\n"
          ]
        }
      ]
    },
    {
      "cell_type": "code",
      "source": [
        "#LATIHAN SOAL 4\n",
        "print(\"deret bilangan dari 1 sampai 20:\")\n",
        "for bilangan in range(1, 21):\n",
        "  print(bilangan, end= \" \")"
      ],
      "metadata": {
        "colab": {
          "base_uri": "https://localhost:8080/"
        },
        "id": "I5Hjz1hGRw_9",
        "outputId": "b314e8a7-b5ec-42d2-db66-a4ec02f69436"
      },
      "execution_count": 27,
      "outputs": [
        {
          "output_type": "stream",
          "name": "stdout",
          "text": [
            "deret bilangan dari 1 sampai 20:\n",
            "1 2 3 4 5 6 7 8 9 10 11 12 13 14 15 16 17 18 19 20 "
          ]
        }
      ]
    },
    {
      "cell_type": "code",
      "source": [
        "#LATRIHAN SOAL 5\n",
        "a = int(input(\"masukkan bilangan pertama  (a):\"))\n",
        "b = int(input(\"masukkan bilangan kedua (b):\"))\n",
        "jumlah = 0\n",
        "for i in range(a, b + 1):\n",
        "  jumlah = jumlah + i\n",
        "print(f\"jumlah dari semua bilangan dari {a} hingga {b} adalah {jumlah}\")\n"
      ],
      "metadata": {
        "colab": {
          "base_uri": "https://localhost:8080/"
        },
        "id": "lMR8qaqcT_Xk",
        "outputId": "b752be89-f68f-4429-f5e8-ad4251620b1a"
      },
      "execution_count": 46,
      "outputs": [
        {
          "output_type": "stream",
          "name": "stdout",
          "text": [
            "masukkan bilangan pertama  (a):4\n",
            "masukkan bilangan kedua (b):22\n",
            "jumlah dari semua bilangan dari 4 hingga 22 adalah 247\n"
          ]
        }
      ]
    },
    {
      "cell_type": "code",
      "source": [
        "#LATIHAN SOAL 6\n",
        "a = int(input(\"masukkan bilangan pertama (a):\"))\n",
        "b = int(input(\"masukkan bilangan kedua (b):\"))\n",
        "print(f\"bilangan genap dari {a} hingga {b} adalah:\")\n",
        "for bilangan in range (a, b +1):\n",
        "  if bilangan % 2 == 0:\n",
        "    print(bilangan, end=\" \")"
      ],
      "metadata": {
        "colab": {
          "base_uri": "https://localhost:8080/"
        },
        "id": "gbtXOzl6Z7WY",
        "outputId": "a493a569-096b-4744-dd92-7fa48a2b1d05"
      },
      "execution_count": 38,
      "outputs": [
        {
          "output_type": "stream",
          "name": "stdout",
          "text": [
            "masukkan bilangan pertama (a):2\n",
            "masukkan bilangan kedua (b):20\n",
            "bilangan genap dari 2 hingga 20 adalah:\n",
            "2 4 6 8 10 12 14 16 18 20 "
          ]
        }
      ]
    },
    {
      "cell_type": "code",
      "source": [
        "#LATIHAN SOAL 7\n",
        "A = {5,2,8,1}\n",
        "reverse_arr = [0] * len(A)\n",
        "for i in range(len(A)):\n",
        "  reverse_arr[i] = list(A)[len(A)-i-1]\n",
        "print(reverse_arr)"
      ],
      "metadata": {
        "colab": {
          "base_uri": "https://localhost:8080/"
        },
        "id": "iUvkjCpheVW3",
        "outputId": "75600fad-8074-4d81-dcbb-ab893a9b8d6d"
      },
      "execution_count": 11,
      "outputs": [
        {
          "output_type": "stream",
          "name": "stdout",
          "text": [
            "[5, 2, 1, 8]\n"
          ]
        }
      ]
    },
    {
      "cell_type": "code",
      "source": [
        "#LATIHAN SOAL 8\n",
        "angka = int(input(\"masukkan bilangan bulat:\"))\n",
        "prima = True\n",
        "if angka < 2 :\n",
        "    prima = False\n",
        "else :\n",
        "    for i in range(2, int(angka ** 0.5)+1):\n",
        "        if angka % i == 0 :\n",
        "            prima = False\n",
        "            break\n",
        "if prima :\n",
        "    print(f\"{angka} adalah bilangan prima\")\n",
        "else :\n",
        "    print(f\"{angka} bukan bilangan prima\")"
      ],
      "metadata": {
        "colab": {
          "base_uri": "https://localhost:8080/"
        },
        "id": "eE1ritqTfgo-",
        "outputId": "ce5b9ebd-a2e9-4a21-dc91-ae7ffe355f47"
      },
      "execution_count": 10,
      "outputs": [
        {
          "output_type": "stream",
          "name": "stdout",
          "text": [
            "masukkan bilangan bulat:20\n",
            "20 bukan bilangan prima\n"
          ]
        }
      ]
    }
  ]
}