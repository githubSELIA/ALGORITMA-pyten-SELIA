{
  "nbformat": 4,
  "nbformat_minor": 0,
  "metadata": {
    "colab": {
      "provenance": [],
      "authorship_tag": "ABX9TyNJwsBIQdiOTdno6Hr7WaiD",
      "include_colab_link": true
    },
    "kernelspec": {
      "name": "python3",
      "display_name": "Python 3"
    },
    "language_info": {
      "name": "python"
    }
  },
  "cells": [
    {
      "cell_type": "markdown",
      "metadata": {
        "id": "view-in-github",
        "colab_type": "text"
      },
      "source": [
        "<a href=\"https://colab.research.google.com/github/githubSELIA/ALGORITMA-pyten-SELIA/blob/main/P5_Selia_2C1240041.ipynb\" target=\"_parent\"><img src=\"https://colab.research.google.com/assets/colab-badge.svg\" alt=\"Open In Colab\"/></a>"
      ]
    },
    {
      "cell_type": "code",
      "execution_count": 1,
      "metadata": {
        "colab": {
          "base_uri": "https://localhost:8080/"
        },
        "id": "JRADVeohJXD7",
        "outputId": "98d2d2b6-8647-4746-c9e6-55c53ac51ce8"
      },
      "outputs": [
        {
          "output_type": "stream",
          "name": "stdout",
          "text": [
            "Hello, World\n"
          ]
        }
      ],
      "source": [
        "#Program HelloWorld\n",
        "#Mencetak Hello, World! ke layar\n",
        "\n",
        "#KAMUS\n",
        "#belum diperlukan\n",
        "\n",
        "#ALGORITMA\n",
        "print('Hello, World')"
      ]
    },
    {
      "cell_type": "code",
      "source": [
        "#proses memasukan data ke dalam variabel\n",
        "nama = \"John Doe\"\n",
        "#proses mencetak variabel\n",
        "print(nama)\n",
        "#nilai dan tipe data dalam variabel dapat diubah\n",
        "umur = 20 #nilai awal\n",
        "print(umur) #mencetak nilai umur\n",
        "type(umur) #mengecek tipe data umur\n",
        "umur = \"dua puluh satu\" #nilai setelah diubah\n",
        "print(umur) #mencetak nilai umur\n",
        "type(umur) #mengecek tipe data umur\n",
        "namaDepan = \"Budi\"\n",
        "namaBelakang = \"Susanto\"\n",
        "nama = namaDepan + \" \" + namaBelakang\n",
        "umur = 22\n",
        "hobi = \"Berenang\"\n",
        "print(\"Biodata\\n\", nama, \"\\n\", umur, \"\\n\", hobi)"
      ],
      "metadata": {
        "colab": {
          "base_uri": "https://localhost:8080/"
        },
        "id": "T3985rnJQ2h-",
        "outputId": "56082969-46cb-41f2-b109-94fbe8ed3783"
      },
      "execution_count": 2,
      "outputs": [
        {
          "output_type": "stream",
          "name": "stdout",
          "text": [
            "John Doe\n",
            "20\n",
            "dua puluh satu\n",
            "Biodata\n",
            " Budi Susanto \n",
            " 22 \n",
            " Berenang\n"
          ]
        }
      ]
    },
    {
      "cell_type": "code",
      "source": [
        "#contoh variabel lainya\n",
        "inivariabel = \"Halo\"\n",
        "ini_juga_variabel = \"Hai\"\n",
        "_inivariabeljuga = \"Hi\"\n",
        "inivariabel222 = \"Bye\"\n",
        "panjang = 10\n",
        "lebar = 5\n",
        "luas = panjang * lebar\n",
        "print(luas)"
      ],
      "metadata": {
        "colab": {
          "base_uri": "https://localhost:8080/"
        },
        "id": "fCw4nHQDRn0n",
        "outputId": "570dce0d-f37b-4523-fadb-485ae28c6e48"
      },
      "execution_count": 3,
      "outputs": [
        {
          "output_type": "stream",
          "name": "stdout",
          "text": [
            "50\n"
          ]
        }
      ]
    },
    {
      "cell_type": "code",
      "source": [
        "print(\"Hello, World!\") # (1)\n",
        "print(\"Ini program\", end=\"\") # (2)\n",
        "print(\" pertama saya\") # (3)\n",
        "print(\"Dengan\", \"Koma\")\n",
        "# Ini akan menghasilkan luaran \"Dengan Koma\"\n",
        "print(\"Dengan\" + \" Plus\")\n",
        "# Ini akan menghasilkan luaran \"DenganPlus\"\n",
        "# Perhatikan '+' pada print melakukan konkatenasi pada string saja.\n",
        "variabel = \" sebuah nilai\"\n",
        "print(f\"Dengan format {variabel}\")\n",
        "# Ini akan menghasilkan luaran \"Dengan format sebuah nilai\"\n",
        "# {variabel} akan diubah dengan nilai dari variabel bersesuaian\n",
        "\n",
        "# Ini adalah sebuah komentar.\n",
        "# Semua yang ada setelah tanda pagar (#) akan diabaikan oleh interpreter.\n",
        "\"\"\"\n",
        "Selain itu, kita juga bisa membuat komentar multi-baris dengan tiga petik\n",
        "\"\"\""
      ],
      "metadata": {
        "colab": {
          "base_uri": "https://localhost:8080/",
          "height": 122
        },
        "id": "hHQf-Iv3TsUH",
        "outputId": "ec18a31c-b78f-4f78-fd8d-2fd051cc2d8b"
      },
      "execution_count": 8,
      "outputs": [
        {
          "output_type": "stream",
          "name": "stdout",
          "text": [
            "Hello, World!\n",
            "Ini program pertama saya\n",
            "Dengan Koma\n",
            "Dengan Plus\n",
            "Dengan format  sebuah nilai\n"
          ]
        },
        {
          "output_type": "execute_result",
          "data": {
            "text/plain": [
              "'\\nSelain itu, kita juga bisa membuat komentar multi-baris dengan tiga petik\\n'"
            ],
            "application/vnd.google.colaboratory.intrinsic+json": {
              "type": "string"
            }
          },
          "metadata": {},
          "execution_count": 8
        }
      ]
    },
    {
      "cell_type": "code",
      "source": [
        "S = input(\"Masukkan kalimat: \") #(1)\n",
        "print(\"Anda memasuk kan kalimat: \" + S) #(2)\n",
        "N = int(input(\"Masukkan sebuah angka: \")) # (3)\n",
        "print(\"Jika angka Anda ditambah 5, hasilnya: \" + str(N + 5)) #(4)"
      ],
      "metadata": {
        "colab": {
          "base_uri": "https://localhost:8080/"
        },
        "id": "E3bgV8p6UUop",
        "outputId": "17b5c991-a8f6-44ce-a225-ca27da9b3643"
      },
      "execution_count": 12,
      "outputs": [
        {
          "output_type": "stream",
          "name": "stdout",
          "text": [
            "Masukkan kalimat: makan malam\n",
            "Anda memasuk kan kalimat: makan malam\n",
            "Masukkan sebuah angka: 1\n",
            "Jika angka Anda ditambah 5, hasilnya: 6\n"
          ]
        }
      ]
    },
    {
      "cell_type": "code",
      "source": [
        "#tipe data Boolean\n",
        "print(True)\n",
        "#tipe data String\n",
        "print(\"Ayo belajar Python\")\n",
        "print('Belajar Python Sangat Mudah')\n",
        "#tipe data Integer\n",
        "print(20)\n",
        "#tipe data Float\n",
        "print(3.14)\n",
        "#tipe data Hexadecimal\n",
        "print(0x9a) # Perbaikan: menambahkan awalan 0x\n",
        "#tipe data Complex\n",
        "print(5j)\n",
        "#tipe data List\n",
        "print([1,2,3,4,5])\n",
        "print([\"satu\", \"dua\", \"tiga\"])\n",
        "#tipe data Tuple\n",
        "print((1,2,3,4,5))\n",
        "print((\"satu\", \"dua\", \"tiga\"))\n",
        "#tipe data Dictionary\n",
        "print({\"nama\":\"Budi\", 'umur':20})\n",
        "#tipe data Dictionary dimasukan ke dalam variabel biodata\n",
        "biodata = {\"nama\":\"Andi\", 'umur':21} #proses inisialisasi variabel biodata\n",
        "print(biodata) #proses pencetakan variabel biodata yang berisi tipe data Dictionary\n",
        "print(type(biodata)) #fungsi untuk mengecek jenis tipe data. akan tampil\n",
        "#<class 'dict'> yang berarti dict adalah tipe data dictionary"
      ],
      "metadata": {
        "colab": {
          "base_uri": "https://localhost:8080/"
        },
        "id": "xwNbSJVDVbkg",
        "outputId": "bb31fd3c-3c43-46ec-ee3e-bad419ff6a6b"
      },
      "execution_count": 15,
      "outputs": [
        {
          "output_type": "stream",
          "name": "stdout",
          "text": [
            "True\n",
            "Ayo belajar Python\n",
            "Belajar Python Sangat Mudah\n",
            "20\n",
            "3.14\n",
            "154\n",
            "5j\n",
            "[1, 2, 3, 4, 5]\n",
            "['satu', 'dua', 'tiga']\n",
            "(1, 2, 3, 4, 5)\n",
            "('satu', 'dua', 'tiga')\n",
            "{'nama': 'Budi', 'umur': 20}\n",
            "{'nama': 'Andi', 'umur': 21}\n",
            "<class 'dict'>\n"
          ]
        }
      ]
    },
    {
      "cell_type": "code",
      "source": [
        "x = float(5)\n",
        "print(x)"
      ],
      "metadata": {
        "colab": {
          "base_uri": "https://localhost:8080/"
        },
        "id": "xg-qI5byV8E_",
        "outputId": "9b685566-8129-4566-8d76-fd8d6ea91e53"
      },
      "execution_count": 16,
      "outputs": [
        {
          "output_type": "stream",
          "name": "stdout",
          "text": [
            "5.0\n"
          ]
        }
      ]
    },
    {
      "cell_type": "code",
      "source": [
        "x = int(5.6)\n",
        "print(x)"
      ],
      "metadata": {
        "colab": {
          "base_uri": "https://localhost:8080/"
        },
        "id": "IfvcnYY2WDZI",
        "outputId": "ecd57f5a-26ac-4e45-e1cd-1532bc8a8674"
      },
      "execution_count": 17,
      "outputs": [
        {
          "output_type": "stream",
          "name": "stdout",
          "text": [
            "5\n"
          ]
        }
      ]
    },
    {
      "cell_type": "code",
      "source": [
        "x = str(9)\n",
        "print(x)"
      ],
      "metadata": {
        "colab": {
          "base_uri": "https://localhost:8080/"
        },
        "id": "m-P_dT0QWJqw",
        "outputId": "c0a4b0a5-fc49-4228-fc4b-54fa0424cd40"
      },
      "execution_count": 18,
      "outputs": [
        {
          "output_type": "stream",
          "name": "stdout",
          "text": [
            "9\n"
          ]
        }
      ]
    },
    {
      "cell_type": "code",
      "source": [
        "x = set([1, 2, 3])\n",
        "y = tuple({5, 6, 7})\n",
        "z = list((\"hello\"))\n",
        "print(x)\n",
        "print(y)\n",
        "print(z)\n"
      ],
      "metadata": {
        "colab": {
          "base_uri": "https://localhost:8080/"
        },
        "id": "iiVzHF2BWNh4",
        "outputId": "03c784a5-52c2-4f7b-e4a5-f661507a48db"
      },
      "execution_count": 21,
      "outputs": [
        {
          "output_type": "stream",
          "name": "stdout",
          "text": [
            "{1, 2, 3}\n",
            "(5, 6, 7)\n",
            "['h', 'e', 'l', 'l', 'o']\n"
          ]
        }
      ]
    },
    {
      "cell_type": "code",
      "source": [
        "x = 8\n",
        "y = 2\n",
        "result = x + y\n",
        "print(result)"
      ],
      "metadata": {
        "colab": {
          "base_uri": "https://localhost:8080/"
        },
        "id": "rfVaxUDvWY8h",
        "outputId": "16156eb5-62fe-4b65-a1e8-83b40a4c3606"
      },
      "execution_count": 22,
      "outputs": [
        {
          "output_type": "stream",
          "name": "stdout",
          "text": [
            "10\n"
          ]
        }
      ]
    },
    {
      "cell_type": "code",
      "source": [
        "# Penjumlahan\n",
        "print(13 + 2)\n",
        "apel = 7\n",
        "jeruk = 9\n",
        "buah = apel + jeruk # Menjumlahkan jumlah apel dan jeruk\n",
        "print(f\"Jumlah buah: {buah}\")\n",
        "# Pengurangan\n",
        "hutang = 10000\n",
        "bayar = 5000\n",
        "sisa_hutang = hutang - bayar # Menghitung sisa hutang\n",
        "print(f\"Sisa hutang Anda adalah {sisa_hutang}\")\n",
        "# Perkalian\n",
        "panjang = 15\n",
        "lebar = 8\n",
        "luas = panjang * lebar # Menghitung luas persegi panjang\n",
        "print(f\"Luas persegi panjang: {luas}\")\n",
        "# Pembagian\n",
        "kue = 16\n",
        "anak = 4\n",
        "kue_per_anak = kue / anak # Menghitung bagian kue per anak\n",
        "print(f\"Setiap anak akan mendapatkan bagian kue sebanyak {kue_per_anak}\")\n",
        "# Sisa Bagi / Modulus\n",
        "bilangan1 = 14\n",
        "bilangan2 = 5\n",
        "hasil = bilangan1 % bilangan2 # Menghitung sisa bagi\n",
        "print#(f\"Sisa bagi dari bilangan {bilangan1} dan {bilangan2} adalah{hasil}\")\n",
        "# Pangkat\n",
        "bilangan3 = 8\n",
        "bilangan4 = 2\n",
        "hasil_pangkat = bilangan3 ** bilangan4 # Menghitung hasil pangkat\n",
        "print(f\"Hasil pangkat: {hasil_pangkat}\")\n",
        "# Pembagian Bulat\n",
        "print(10 // 3)\n",
        "# 10 dibagi 3 adalah 3.3333. Karena dibulatkan maka akan menghasilkannilai3"
      ],
      "metadata": {
        "colab": {
          "base_uri": "https://localhost:8080/"
        },
        "id": "HiwF8kYqWiiI",
        "outputId": "4eae3c65-5e65-4ff4-e0a7-e0f69c32ab93"
      },
      "execution_count": 26,
      "outputs": [
        {
          "output_type": "stream",
          "name": "stdout",
          "text": [
            "15\n",
            "Jumlah buah: 16\n",
            "Sisa hutang Anda adalah 5000\n",
            "Luas persegi panjang: 120\n",
            "Setiap anak akan mendapatkan bagian kue sebanyak 4.0\n",
            "Hasil pangkat: 64\n",
            "3\n"
          ]
        }
      ]
    },
    {
      "cell_type": "code",
      "source": [
        "# SAMA DENGAN\n",
        "print(1 == 1) # Hasilnya akan bernilai True karena satu sama dengan satu\n",
        "print(1 == 2) # Hasilnya akan bernilai False karena satu tidak sama dengandua\n",
        "# TIDAK SAMA DENGAN\n",
        "print(2 != 2) # Hasilnya akan bernilai False karena dua seharusnya samadengan dua\n",
        "print(2 != 3) # Hasilnya akan bernilai True karena dua tidak sama dengantiga"
      ],
      "metadata": {
        "colab": {
          "base_uri": "https://localhost:8080/"
        },
        "id": "iIDZqiwqW_M4",
        "outputId": "ca766d67-647d-42f4-aef0-65665a56c042"
      },
      "execution_count": 2,
      "outputs": [
        {
          "output_type": "stream",
          "name": "stdout",
          "text": [
            "True\n",
            "False\n",
            "False\n",
            "True\n"
          ]
        }
      ]
    },
    {
      "cell_type": "code",
      "source": [
        "# LEBIH BESAR DARI\n",
        "print(5 > 3) # Hasilnya akan bernilai True karena lima lebih besar daritiga\n",
        "# LEBIH KECIL DARI\n",
        "print(5 < 3) # Hasilnya akan bernilai False karena lima tidak lebih besardari tiga\n",
        "# LEBIH BESAR DARI SAMA DENGAN\n",
        "print(5 >= 3) # Hasilnya akan bernilai True karena lima lebih besar darisama dengan tiga\n",
        "# LEBIH KECIL DARI SAMA DENGAN\n",
        "print(5 <= 3) # Hasilnya akan bernilai False karena lima tidak lebih besardari sama dengan tiga"
      ],
      "metadata": {
        "colab": {
          "base_uri": "https://localhost:8080/"
        },
        "id": "2_3VPs4EXS-R",
        "outputId": "b5cb29ad-043e-4bac-a410-63076388be6d"
      },
      "execution_count": 4,
      "outputs": [
        {
          "output_type": "stream",
          "name": "stdout",
          "text": [
            "True\n",
            "False\n",
            "True\n",
            "False\n"
          ]
        }
      ]
    },
    {
      "cell_type": "code",
      "source": [
        "# Input panjang sisi persegi\n",
        "sisi = float(input(\"Masukkan panjang sisi persegi: \"))\n",
        "\n",
        "# Menghitung luas persegi\n",
        "luas = sisi * sisi\n",
        "\n",
        "# Menampilkan hasil\n",
        "print(\"Luas persegi adalah:\", luas)\n"
      ],
      "metadata": {
        "colab": {
          "base_uri": "https://localhost:8080/"
        },
        "id": "8xhAoDHNXeAJ",
        "outputId": "cf9973b2-a5b1-47a1-eca7-1256d47f7cd5"
      },
      "execution_count": 5,
      "outputs": [
        {
          "output_type": "stream",
          "name": "stdout",
          "text": [
            "Masukkan panjang sisi persegi: 5\n",
            "Luas persegi adalah: 25.0\n"
          ]
        }
      ]
    },
    {
      "cell_type": "code",
      "source": [
        "# Meminta input dari pengguna\n",
        "nama = input(\"Masukkan Nama: \")\n",
        "nim = input(\"Masukkan NIM: \")\n",
        "fakultas = input(\"Masukkan Fakultas: \")\n",
        "jurusan = input(\"Masukkan Jurusan: \")\n",
        "kota_asal = input(\"Masukkan Kota Asal: \")\n",
        "alamat = input(\"Masukkan Alamat: \")\n",
        "\n",
        "# Menampilkan semua data yang telah dimasukkan\n",
        "print(\"\\nData Mahasiswa:\")\n",
        "print(\"Nama        :\", nama)\n",
        "print(\"NIM         :\", nim)\n",
        "print(\"Fakultas    :\", fakultas)\n",
        "print(\"Jurusan     :\", jurusan)\n",
        "print(\"Kota Asal   :\", kota_asal)\n",
        "print(\"Alamat      :\", alamat)\n"
      ],
      "metadata": {
        "colab": {
          "base_uri": "https://localhost:8080/"
        },
        "id": "e0IhEnfwYYty",
        "outputId": "6e65465e-a331-4d71-e541-f6d33edccaca"
      },
      "execution_count": 7,
      "outputs": [
        {
          "output_type": "stream",
          "name": "stdout",
          "text": [
            "Masukkan Nama: Selia\n",
            "Masukkan NIM: 2C1240041\n",
            "Masukkan Fakultas: Sains dan teknologi\n",
            "Masukkan Jurusan: Agribisnis\n",
            "Masukkan Kota Asal: Riau\n",
            "Masukkan Alamat: Indragiri hilir riau\n",
            "\n",
            "Data Mahasiswa:\n",
            "Nama        : Selia\n",
            "NIM         : 2C1240041\n",
            "Fakultas    : Sains dan teknologi\n",
            "Jurusan     : Agribisnis\n",
            "Kota Asal   : Riau\n",
            "Alamat      : Indragiri hilir riau\n"
          ]
        }
      ]
    }
  ]
}