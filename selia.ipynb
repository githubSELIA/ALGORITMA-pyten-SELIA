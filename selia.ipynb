{
  "nbformat": 4,
  "nbformat_minor": 0,
  "metadata": {
    "colab": {
      "provenance": [],
      "authorship_tag": "ABX9TyMUoGkl5zyTmKpvqoZJ2Hvs",
      "include_colab_link": true
    },
    "kernelspec": {
      "name": "python3",
      "display_name": "Python 3"
    },
    "language_info": {
      "name": "python"
    }
  },
  "cells": [
    {
      "cell_type": "markdown",
      "metadata": {
        "id": "view-in-github",
        "colab_type": "text"
      },
      "source": [
        "<a href=\"https://colab.research.google.com/github/githubSELIA/ALGORITMA-pyten-SELIA/blob/main/selia.ipynb\" target=\"_parent\"><img src=\"https://colab.research.google.com/assets/colab-badge.svg\" alt=\"Open In Colab\"/></a>"
      ]
    },
    {
      "cell_type": "code",
      "execution_count": 1,
      "metadata": {
        "colab": {
          "base_uri": "https://localhost:8080/"
        },
        "id": "JRADVeohJXD7",
        "outputId": "98d2d2b6-8647-4746-c9e6-55c53ac51ce8"
      },
      "outputs": [
        {
          "output_type": "stream",
          "name": "stdout",
          "text": [
            "Hello, World\n"
          ]
        }
      ],
      "source": [
        "#Program HelloWorld\n",
        "#Mencetak Hello, World! ke layar\n",
        "\n",
        "#KAMUS\n",
        "#belum diperlukan\n",
        "\n",
        "#ALGORITMA\n",
        "print('Hello, World')"
      ]
    }
  ]
}